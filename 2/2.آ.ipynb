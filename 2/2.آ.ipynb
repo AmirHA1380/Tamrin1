{
  "nbformat": 4,
  "nbformat_minor": 0,
  "metadata": {
    "colab": {
      "provenance": []
    },
    "kernelspec": {
      "name": "python3",
      "display_name": "Python 3"
    },
    "language_info": {
      "name": "python"
    }
  },
  "cells": [
    {
      "cell_type": "code",
      "source": [
        "from scipy.io import loadmat\n",
        "import numpy as np\n",
        "\n",
        "# بارگذاری داده‌های کلاس سالم و کلاس عیب از فایل‌های مربوطه\n",
        "normal_data = loadmat('/content/97.mat')['X097_DE_time']  # داده‌های کلاس سالم\n",
        "ir_data = loadmat('/content/IR007.mat')['X105_DE_time']  # داده‌های کلاس عیب\n",
        "\n",
        "# تنظیمات مورد نیاز برای ایجاد دیتاست\n",
        "M = 100  # تعداد نمونه‌ها از هر کلاس\n",
        "N = 200  # طول هر نمونه\n",
        "\n",
        "# اطمینان از کافی بودن داده برای برداشت نمونه‌ها\n",
        "assert normal_data.shape[0] >= M * N, \"Not enough data in NORMAL_0\"\n",
        "assert ir_data.shape[0] >= M * N, \"Not enough data in IR007_x\"\n",
        "\n",
        "# ایجاد دو ماتریس جداگانه برای داده‌های هر کلاس\n",
        "normal_dataset = np.zeros((M, N))\n",
        "ir_dataset = np.zeros((M, N))\n",
        "\n",
        "# استخراج نمونه‌ها برای هر کلاس\n",
        "for i in range(M):\n",
        "    start_index = np.random.randint(0, normal_data.shape[0] - N + 1)\n",
        "    normal_dataset[i, :] = normal_data[start_index:start_index + N].flatten()  # نمونه‌های کلاس NORMAL_0\n",
        "\n",
        "    start_index = np.random.randint(0, ir_data.shape[0] - N + 1)\n",
        "    ir_dataset[i, :] = ir_data[start_index:start_index + N].flatten()  # نمونه‌های کلاس IR007_x\n",
        "\n",
        "# چاپ اندازه‌های دیتاست‌ها\n",
        "print(\"Normal dataset shape:\", normal_dataset.shape)\n",
        "print(\"IR dataset shape:\", ir_dataset.shape)\n"
      ],
      "metadata": {
        "colab": {
          "base_uri": "https://localhost:8080/"
        },
        "id": "gFdEIVqPRW8j",
        "outputId": "aec2d76c-3545-4ce0-b444-3df3120e7326"
      },
      "execution_count": 5,
      "outputs": [
        {
          "output_type": "stream",
          "name": "stdout",
          "text": [
            "Normal dataset shape: (100, 200)\n",
            "IR dataset shape: (100, 200)\n"
          ]
        }
      ]
    }
  ]
}