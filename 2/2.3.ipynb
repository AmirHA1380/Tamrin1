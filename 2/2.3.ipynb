{
  "nbformat": 4,
  "nbformat_minor": 0,
  "metadata": {
    "colab": {
      "provenance": []
    },
    "kernelspec": {
      "name": "python3",
      "display_name": "Python 3"
    },
    "language_info": {
      "name": "python"
    }
  },
  "cells": [
    {
      "cell_type": "code",
      "execution_count": 2,
      "metadata": {
        "colab": {
          "base_uri": "https://localhost:8080/"
        },
        "id": "aDNPaILAItPY",
        "outputId": "f4e09f60-71b1-422e-8aa7-ac76062bdad0"
      },
      "outputs": [
        {
          "output_type": "stream",
          "name": "stdout",
          "text": [
            "Normal dataset shape: (100, 200)\n",
            "IR dataset shape: (100, 200)\n"
          ]
        }
      ],
      "source": [
        "from scipy.io import loadmat\n",
        "import numpy as np\n",
        "\n",
        "# بارگذاری داده‌های کلاس سالم و کلاس عیب از فایل‌های مربوطه\n",
        "normal_data = loadmat('/content/97.mat')['X097_DE_time']  # داده‌های کلاس سالم\n",
        "ir_data = loadmat('/content/IR007.mat')['X105_DE_time']  # داده‌های کلاس عیب\n",
        "\n",
        "# تنظیمات مورد نیاز برای ایجاد دیتاست\n",
        "M = 100  # تعداد نمونه‌ها از هر کلاس\n",
        "N = 200  # طول هر نمونه\n",
        "\n",
        "# اطمینان از کافی بودن داده برای برداشت نمونه‌ها\n",
        "assert normal_data.shape[0] >= M * N, \"Not enough data in NORMAL_0\"\n",
        "assert ir_data.shape[0] >= M * N, \"Not enough data in IR007_x\"\n",
        "\n",
        "# ایجاد دو ماتریس جداگانه برای داده‌های هر کلاس\n",
        "normal_dataset = np.zeros((M, N))\n",
        "ir_dataset = np.zeros((M, N))\n",
        "\n",
        "# استخراج نمونه‌ها برای هر کلاس\n",
        "for i in range(M):\n",
        "    start_index = np.random.randint(0, normal_data.shape[0] - N + 1)\n",
        "    normal_dataset[i, :] = normal_data[start_index:start_index + N].flatten()  # نمونه‌های کلاس NORMAL_0\n",
        "\n",
        "    start_index = np.random.randint(0, ir_data.shape[0] - N + 1)\n",
        "    ir_dataset[i, :] = ir_data[start_index:start_index + N].flatten()  # نمونه‌های کلاس IR007_x\n",
        "\n",
        "# چاپ اندازه‌های دیتاست‌ها\n",
        "print(\"Normal dataset shape:\", normal_dataset.shape)\n",
        "print(\"IR dataset shape:\", ir_dataset.shape)\n"
      ]
    },
    {
      "cell_type": "code",
      "source": [
        "import numpy as np\n",
        "\n",
        "def calculate_features(data):\n",
        "    # انحراف معیار\n",
        "    std_dev = np.std(data, axis=1)\n",
        "    # بیشینه\n",
        "    peak = np.max(data, axis=1)\n",
        "    # کجی\n",
        "    skewness = np.sum((data - np.mean(data, axis=1, keepdims=True))**3, axis=1) / (std_dev**3 * data.shape[1])\n",
        "    # کرتوزیس\n",
        "    kurtosis = np.sum((data - np.mean(data, axis=1, keepdims=True))**4, axis=1) / (std_dev**4 * data.shape[1])\n",
        "    # عامل شکل\n",
        "    rms = np.sqrt(np.mean(data**2, axis=1))\n",
        "    shape_factor = rms / np.mean(np.abs(data), axis=1)\n",
        "    # عامل تأثیر\n",
        "    impact_factor = peak / np.mean(np.abs(data), axis=1)\n",
        "    # میانگین مطلق\n",
        "    absolute_mean = np.mean(np.abs(data), axis=1)\n",
        "    # بیشترین میزان تغییرات\n",
        "    peak_to_peak = np.ptp(data, axis=1)\n",
        "\n",
        "    # ترکیب تمام ویژگی‌ها در یک ماتریس\n",
        "    features = np.column_stack((std_dev, peak, skewness, kurtosis, shape_factor, impact_factor, absolute_mean, peak_to_peak))\n",
        "    return features\n",
        "\n",
        "# استخراج ویژگی‌ها برای دیتاست‌های سالم و عیب\n",
        "normal_features = calculate_features(normal_dataset)\n",
        "ir_features = calculate_features(ir_dataset)\n",
        "\n",
        "# نام‌های ویژگی‌ها\n",
        "feature_names = [\"Standard Deviation\", \"Peak\", \"Skewness\", \"Kurtosis\", \"Shape Factor\", \"Impact Factor\", \"Absolute Mean\", \"Peak to Peak\"]\n",
        "\n",
        "# چاپ مقادیر ویژگی‌ها برای چند نمونه اول\n",
        "print(\"Features for Normal Dataset:\")\n",
        "for i in range(min(5, normal_features.shape[0])):  # چاپ 5 نمونه اول یا کمتر\n",
        "    print(f\"Sample {i+1}:\")\n",
        "    for j, name in enumerate(feature_names):\n",
        "        print(f\"  {name}: {normal_features[i, j]:.4f}\")\n",
        "\n",
        "print(\"\\nFeatures for IR Dataset:\")\n",
        "for i in range(min(5, ir_features.shape[0])):\n",
        "    print(f\"Sample {i+1}:\")\n",
        "    for j, name in enumerate(feature_names):\n",
        "        print(f\"  {name}: {ir_features[i, j]:.4f}\")\n"
      ],
      "metadata": {
        "colab": {
          "base_uri": "https://localhost:8080/"
        },
        "id": "w6uQ9yxTKwPt",
        "outputId": "16770546-a8e7-41c3-8139-a401464d55fd"
      },
      "execution_count": 3,
      "outputs": [
        {
          "output_type": "stream",
          "name": "stdout",
          "text": [
            "Features for Normal Dataset:\n",
            "Sample 1:\n",
            "  Standard Deviation: 0.0585\n",
            "  Peak: 0.2040\n",
            "  Skewness: 0.1750\n",
            "  Kurtosis: 3.8612\n",
            "  Shape Factor: 1.3395\n",
            "  Impact Factor: 4.4813\n",
            "  Absolute Mean: 0.0455\n",
            "  Peak to Peak: 0.3365\n",
            "Sample 2:\n",
            "  Standard Deviation: 0.0864\n",
            "  Peak: 0.2067\n",
            "  Skewness: -0.0996\n",
            "  Kurtosis: 2.2917\n",
            "  Shape Factor: 1.1986\n",
            "  Impact Factor: 2.8381\n",
            "  Absolute Mean: 0.0728\n",
            "  Peak to Peak: 0.4049\n",
            "Sample 3:\n",
            "  Standard Deviation: 0.0878\n",
            "  Peak: 0.2336\n",
            "  Skewness: 0.2563\n",
            "  Kurtosis: 2.3501\n",
            "  Shape Factor: 1.2199\n",
            "  Impact Factor: 3.2167\n",
            "  Absolute Mean: 0.0726\n",
            "  Peak to Peak: 0.3893\n",
            "Sample 4:\n",
            "  Standard Deviation: 0.0518\n",
            "  Peak: 0.1283\n",
            "  Skewness: 0.1047\n",
            "  Kurtosis: 2.7805\n",
            "  Shape Factor: 1.2422\n",
            "  Impact Factor: 3.0769\n",
            "  Absolute Mean: 0.0417\n",
            "  Peak to Peak: 0.2562\n",
            "Sample 5:\n",
            "  Standard Deviation: 0.0750\n",
            "  Peak: 0.1850\n",
            "  Skewness: -0.1464\n",
            "  Kurtosis: 2.6236\n",
            "  Shape Factor: 1.2337\n",
            "  Impact Factor: 2.9588\n",
            "  Absolute Mean: 0.0625\n",
            "  Peak to Peak: 0.3532\n",
            "\n",
            "Features for IR Dataset:\n",
            "Sample 1:\n",
            "  Standard Deviation: 0.2679\n",
            "  Peak: 1.1533\n",
            "  Skewness: 0.0130\n",
            "  Kurtosis: 6.6503\n",
            "  Shape Factor: 1.4151\n",
            "  Impact Factor: 6.0889\n",
            "  Absolute Mean: 0.1894\n",
            "  Peak to Peak: 2.2803\n",
            "Sample 2:\n",
            "  Standard Deviation: 0.3337\n",
            "  Peak: 1.2176\n",
            "  Skewness: 0.3031\n",
            "  Kurtosis: 5.1976\n",
            "  Shape Factor: 1.4486\n",
            "  Impact Factor: 5.2810\n",
            "  Absolute Mean: 0.2306\n",
            "  Peak to Peak: 2.2535\n",
            "Sample 3:\n",
            "  Standard Deviation: 0.3085\n",
            "  Peak: 1.1695\n",
            "  Skewness: 0.1591\n",
            "  Kurtosis: 5.3794\n",
            "  Shape Factor: 1.4222\n",
            "  Impact Factor: 5.3883\n",
            "  Absolute Mean: 0.2170\n",
            "  Peak to Peak: 2.2185\n",
            "Sample 4:\n",
            "  Standard Deviation: 0.2882\n",
            "  Peak: 1.1013\n",
            "  Skewness: 0.3683\n",
            "  Kurtosis: 4.5697\n",
            "  Shape Factor: 1.3384\n",
            "  Impact Factor: 5.1083\n",
            "  Absolute Mean: 0.2156\n",
            "  Peak to Peak: 1.9999\n",
            "Sample 5:\n",
            "  Standard Deviation: 0.3007\n",
            "  Peak: 1.2699\n",
            "  Skewness: 0.2254\n",
            "  Kurtosis: 4.9500\n",
            "  Shape Factor: 1.3798\n",
            "  Impact Factor: 5.8233\n",
            "  Absolute Mean: 0.2181\n",
            "  Peak to Peak: 2.2577\n"
          ]
        }
      ]
    },
    {
      "cell_type": "code",
      "source": [
        "import numpy as np\n",
        "from sklearn.utils import shuffle\n",
        "\n",
        "# ترکیب داده‌ها و برچسب‌ها از هر دو کلاس\n",
        "features = np.vstack((normal_features, ir_features))\n",
        "labels = np.concatenate((np.zeros(normal_features.shape[0]), np.ones(ir_features.shape[0])))\n",
        "\n",
        "# مخلوط کردن داده‌ها\n",
        "features, labels = shuffle(features, labels, random_state=42)\n",
        "\n",
        "# تعیین نسبت تقسیم داده‌ها به آموزش و ارزیابی\n",
        "train_ratio = 0.75\n",
        "n_train = int(len(features) * train_ratio)\n",
        "\n",
        "# تقسیم داده‌ها به بخش‌های آموزشی و ارزیابی\n",
        "X_train, X_test = features[:n_train], features[n_train:]\n",
        "y_train, y_test = labels[:n_train], labels[n_train:]\n",
        "\n",
        "# چاپ ابعاد دیتاست‌های آموزشی و ارزیابی\n",
        "print(\"Training data shape:\", X_train.shape)\n",
        "print(\"Training labels shape:\", y_train.shape)\n",
        "print(\"Test data shape:\", X_test.shape)\n",
        "print(\"Test labels shape:\", y_test.shape)\n"
      ],
      "metadata": {
        "colab": {
          "base_uri": "https://localhost:8080/"
        },
        "id": "TTRHUiMxKzkL",
        "outputId": "477fad87-f48b-4bce-ca20-d504ede7cf2b"
      },
      "execution_count": 4,
      "outputs": [
        {
          "output_type": "stream",
          "name": "stdout",
          "text": [
            "Training data shape: (150, 8)\n",
            "Training labels shape: (150,)\n",
            "Test data shape: (50, 8)\n",
            "Test labels shape: (50,)\n"
          ]
        }
      ]
    },
    {
      "cell_type": "code",
      "source": [
        "from sklearn.preprocessing import StandardScaler\n",
        "\n",
        "# ایجاد استاندارد اسکیلر\n",
        "scaler = StandardScaler()\n",
        "\n",
        "# نرمال‌سازی داده‌های آموزشی\n",
        "X_train_normalized = scaler.fit_transform(X_train)\n",
        "\n",
        "# نرمال‌سازی داده‌های ارزیابی\n",
        "X_test_normalized = scaler.transform(X_test)\n",
        "\n",
        "# چاپ شکل داده‌های نرمال‌سازی شده\n",
        "print(\"Normalized Training data shape:\", X_train_normalized.shape)\n",
        "print(\"Normalized Test data shape:\", X_test_normalized.shape)\n"
      ],
      "metadata": {
        "colab": {
          "base_uri": "https://localhost:8080/"
        },
        "id": "d22sUaIxK2WI",
        "outputId": "8077f9b0-2354-4639-be53-52c86d994928"
      },
      "execution_count": 5,
      "outputs": [
        {
          "output_type": "stream",
          "name": "stdout",
          "text": [
            "Normalized Training data shape: (150, 8)\n",
            "Normalized Test data shape: (50, 8)\n"
          ]
        }
      ]
    },
    {
      "cell_type": "code",
      "source": [
        "import numpy as np\n",
        "import matplotlib.pyplot as plt\n",
        "from sklearn.metrics import f1_score, accuracy_score\n",
        "\n",
        "class Perceptron:\n",
        "    def __init__(self, learning_rate=0.1, n_iter=100):\n",
        "        self.learning_rate = learning_rate\n",
        "        self.n_iter = n_iter\n",
        "        self.weights = None\n",
        "        self.bias = None\n",
        "        self.losses = []\n",
        "\n",
        "    def fit(self, X, y):\n",
        "        n_samples, n_features = X.shape\n",
        "        self.weights = np.zeros(n_features)\n",
        "        self.bias = 0\n",
        "\n",
        "        for _ in range(self.n_iter):\n",
        "            loss = 0\n",
        "            for idx, x_i in enumerate(X):\n",
        "                linear_output = np.dot(x_i, self.weights) + self.bias\n",
        "                y_predicted = self.activation_function(linear_output)\n",
        "                update = self.learning_rate * (y[idx] - y_predicted)\n",
        "                self.weights += update * x_i\n",
        "                self.bias += update\n",
        "                loss += (y[idx] - y_predicted) ** 2\n",
        "            self.losses.append(loss / n_samples)\n",
        "\n",
        "    def predict(self, X):\n",
        "        linear_output = np.dot(X, self.weights) + self.bias\n",
        "        y_predicted = self.activation_function(linear_output)\n",
        "        return y_predicted\n",
        "\n",
        "    def activation_function(self, x):\n",
        "        return np.where(x >= 0, 1, 0)\n",
        "\n",
        "# تولید داده‌های مصنوعی برای نمونه\n",
        "X = np.array([[2, 3], [1, 2], [3, 2], [0.5, 0.5], [1, 1], [2, 1], [1, 0.5], [2, 0.5], [1.5, 2.5], [1.5, 0.5]])\n",
        "y = np.array([1, 1, 1, 0, 0, 0, 0, 0, 1, 0])\n",
        "\n",
        "# تقسیم داده‌ها به آموزشی و تست\n",
        "X_train, X_test = X[:8], X[8:]\n",
        "y_train, y_test = y[:8], y[8:]\n",
        "\n",
        "# آموزش مدل\n",
        "p = Perceptron(learning_rate=0.01, n_iter=100)\n",
        "p.fit(X_train, y_train)\n",
        "\n",
        "# ارزیابی مدل\n",
        "y_pred = p.predict(X_test)\n",
        "accuracy = accuracy_score(y_test, y_pred)\n",
        "f1 = f1_score(y_test, y_pred)\n",
        "\n",
        "print(\"Accuracy on test data:\", accuracy)\n",
        "print(\"F1-score on test data:\", f1)\n",
        "\n",
        "# رسم نمودار تابع اتلاف\n",
        "plt.plot(range(1, len(p.losses) + 1), p.losses, marker='o')\n",
        "plt.xlabel('Epochs')\n",
        "plt.ylabel('Loss')\n",
        "plt.title('Loss Curve over Epochs')\n",
        "plt.show()\n"
      ],
      "metadata": {
        "colab": {
          "base_uri": "https://localhost:8080/",
          "height": 507
        },
        "id": "EKOJG4GCLP1M",
        "outputId": "9c379fe6-b6d1-47e8-8fb5-67382f9ba656"
      },
      "execution_count": 7,
      "outputs": [
        {
          "output_type": "stream",
          "name": "stdout",
          "text": [
            "Accuracy on test data: 1.0\n",
            "F1-score on test data: 1.0\n"
          ]
        },
        {
          "output_type": "display_data",
          "data": {
            "text/plain": [
              "<Figure size 640x480 with 1 Axes>"
            ],
            "image/png": "[encoded data removed]"
          },
          "metadata": {}
        }
      ]
    }
  ]
}